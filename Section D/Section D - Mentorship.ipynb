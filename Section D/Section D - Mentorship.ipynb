{
 "cells": [
  {
   "cell_type": "markdown",
   "id": "2b337790",
   "metadata": {},
   "source": [
    "#### Section D - Mentorship\n",
    "\n",
    "I have chosen option 1 and 3 for this task.\n",
    "\n",
    "##### Option 1 - Student Progress\n",
    "The goals of the intervention plan are: (a) to bring the 5 students up to speed, (b) maintain the progress of the 10 students and (c) to reinforce learning for the 5 students that are ahead of progress.\n",
    "\n",
    "(a) \n",
    "Pin point the reasons for the students' lack in progress. Is the student disengaging because the topic is difficult to grasp or time management constraints? \n",
    "\n",
    "For topics that are difficult to grasp, a student buddy system or group interactions should be encouraged. Additional visuals or examples that break down complex concepts into smaller and easy to understand concepts or ideas should be used.  \n",
    "The use of real-world applications where applicable allows the student to see the relevance of the concept they are learning and how it applies to their future career. \n",
    "\n",
    "Quizzes to check understanding on a weekly basis, in catch-up group sessions, can help students grasp concepts or identify which concepts they need to focus on. \n",
    "\n",
    "If the students' progress worsens, a one-on-one session can be held to further understand their constraints. Certain constraints such as a student's belief in themselves to succeed academically cannot be addressed in a group setting or in a broad manner.\n",
    "\n",
    "(b) \n",
    "Find out the learning goals of the students in order to inspire self-confidence and help build their independent learning. Inspire curiosity in the students by supplying different resources (via different mediums such as audio) for them to obtain information regarding topics.\n",
    "\n",
    "Set encouraging reminders of upcoming tasks that are due. This emphasizes the expectations of the course and encourages the students to keep to their learning goals.\n",
    "\n",
    "(c) \n",
    "Encourage student-created problems that can be circulated within smaller groups, this fosters peer-to-peer discussions and helps students sharpen their level of understanding. Encourage students to explain concepts that have been completed in their own creative ways. Supply resources for challenges where students can practise their skills and be rewarded for their consistency.\n",
    "\n",
    "It is always good to remember that everyone enrolling through HyperionDev has a goal and dream therefore an intervention plan needs to be targeted and take into account the different abilities and challenges of the students it serves. Intervention plans need employ positive encouragement and not a sense of 'you should already know this because others achieved it quickly'.\n",
    "\n",
    "##### Option 2 - Student Feedback\n",
    "\n",
    "Mentoring a large number of students, it is inevitable for some students to make inaccurate feedback out of frustration. Students will always have a say in their education, especially part-time students. It is important they know that if they have something to say that they would be listened to.\n",
    "\n",
    "The feedback and complaint on social media makes me seem like a poor mentor. Fortunately, I know that there are other metrics and formal requirements that can be used to evaluate my mentoring. A fellow mentor may review my code review and find no fault. I can self-reflect and know that I offered an up to standard code review. The institution will have guidelines for dealing with such complaints especially those that are inaccurate.\n",
    "\n",
    "With regards to any type of feedback one should not be too pleased with overly enthusiastic feedback or too discouraged by harsh or inaccurate comments."
   ]
  },
  {
   "cell_type": "code",
   "execution_count": null,
   "id": "9bfa5c3c",
   "metadata": {},
   "outputs": [],
   "source": []
  }
 ],
 "metadata": {
  "kernelspec": {
   "display_name": "Python 3",
   "language": "python",
   "name": "python3"
  },
  "language_info": {
   "codemirror_mode": {
    "name": "ipython",
    "version": 3
   },
   "file_extension": ".py",
   "mimetype": "text/x-python",
   "name": "python",
   "nbconvert_exporter": "python",
   "pygments_lexer": "ipython3",
   "version": "3.8.8"
  }
 },
 "nbformat": 4,
 "nbformat_minor": 5
}

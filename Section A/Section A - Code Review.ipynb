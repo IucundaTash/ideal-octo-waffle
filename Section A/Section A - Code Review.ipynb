{
 "cells": [
  {
   "cell_type": "markdown",
   "id": "e6715acc",
   "metadata": {},
   "source": [
    "#### Section A - Code Review\n",
    "\n",
    "I have chosen to review option 3, the Ruby Task.\n",
    "\n",
    "###### Correctness\n",
    "\n",
    "The block of code has a missing 'end' in order fot the code to terminate. It should appear after line 27 and have no indentation.\n",
    "\n",
    "The lines 12 and 13 of the code are conflicting. Line 12 defines the variable 'num' as 'x'.\n",
    "\n",
    "Care should be taken to ensure that the user inputs an integer or that the code converts the user inputs to an integer.\n",
    "\n",
    "The student's code does not behave exactly as intended. For all negative numbers, the code correctly defines the numbers as not palindrome numbers. However, if a user inputs a positve number that is clearly a palindrome, the code cannot identify the number as such.\n",
    "\n",
    "###### Efficiency\n",
    "\n",
    "The answer to the task can be obtained using few lines of code. By using operators, conversion methods and the reverse method, the function can be defined using 7 lines of code. \n",
    "\n",
    "###### Style\n",
    "\n",
    "Comments should be directly above or inline with the line of code that they are explaining. \n",
    "The students comments are hard to follow because they are too long and describe different lines of code that are not directly below. Line 1 of the code will be best used above line 11. The comments in line 5 to line 9 should be written as doc strings and follow directly under line 2.\n",
    "\n",
    "The student should read up on Ruby code comments guidelines. More information can be found at [Code Comments]('https://docs.ruby-lang.org/en/master/syntax/comments_rdoc.html').\n",
    "\n",
    "The student should maintain consistent variable names, for example the lines 11 ('reversd') and 17 ('reversed') do not refer to the same variable. \n",
    "\n",
    "###### Documentation\n",
    "\n",
    "The student should add doc strings that offer a summary of what the function or code as whole aims to achieve. \n",
    "\n",
    "###### Positive aspects and improvements\n",
    "The student has used meaningful 'identifier names'. Each variable, function and constants have clear names and reflects one use. The student should remember to document their code so that anyone reading or anyone that wants to use their code is aware of what it is meant to achieve. The student should add a driver code after defining the function as way to evaluate their code and see if the intended output is given\n"
   ]
  },
  {
   "cell_type": "code",
   "execution_count": null,
   "id": "37f611a8",
   "metadata": {},
   "outputs": [],
   "source": []
  }
 ],
 "metadata": {
  "kernelspec": {
   "display_name": "Python 3",
   "language": "python",
   "name": "python3"
  },
  "language_info": {
   "codemirror_mode": {
    "name": "ipython",
    "version": 3
   },
   "file_extension": ".py",
   "mimetype": "text/x-python",
   "name": "python",
   "nbconvert_exporter": "python",
   "pygments_lexer": "ipython3",
   "version": "3.8.8"
  }
 },
 "nbformat": 4,
 "nbformat_minor": 5
}

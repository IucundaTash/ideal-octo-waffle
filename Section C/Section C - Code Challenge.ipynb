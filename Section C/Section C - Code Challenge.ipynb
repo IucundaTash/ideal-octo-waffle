{
 "cells": [
  {
   "cell_type": "markdown",
   "id": "acc81258",
   "metadata": {},
   "source": [
    "##### Section C - Code Challenge\n",
    "\n",
    "I have chosen to complete option 4, the ISBN challenge, using Python.\n",
    "\n",
    "The requirements fot this challeng  is to define a function that identifies an ISBN as either ISBN-13 or ISBN-10. If the user inputs a valid ISBN-10, the function should convert it to an ISBN-10."
   ]
  },
  {
   "cell_type": "code",
   "execution_count": 49,
   "id": "3260c2f7",
   "metadata": {},
   "outputs": [],
   "source": [
    "def verify_isbn(number):\n",
    "    \n",
    "    '''This functions checks the length of the number\n",
    "    and determines if it is an ISBN-10 or ISBN-13.\n",
    "    \n",
    "    If it is an ISBN-13, it converts the number to\n",
    "    an ISBN- 10.'''\n",
    "    \n",
    "    a = [10,9,8,7,6,5,4,3,2,1] # this list is required to validate ISBN-10\n",
    "        #b = [1,3,1,3,1,3,1,3,1,3,1,3,1] # this list is required to validate ISBN-13\n",
    "        \n",
    "    if len(number) == 10:\n",
    "            # Compute the sum of products using each digit in 'number',\n",
    "            # and each number in list 'a'.\n",
    "        sum_of_product10 = 0\n",
    "            \n",
    "            # Some ISBN-10 numbers may contain an 'X' at the end hence the range \n",
    "            # below excludes the last digit in 'number'.\n",
    "        for i in range(9):\n",
    "                \n",
    "            product_10 = int(number[i]) * a[i] \n",
    "            sum_of_product10 += product_10               \n",
    "                \n",
    "            if number[-1] == 'X':\n",
    "                    # if the last character in 'number' is an 'X'\n",
    "                    # add '10' to the sum of products\n",
    "                sum_of_product10 += 10\n",
    "                \n",
    "            # A number is a valid ISBN-10 if the sum of products is\n",
    "            # divisible by 11.\n",
    "        if (sum_of_product10%11) == 0:\n",
    "            return 'Valid'\n",
    "        else:\n",
    "            return 'Invalid'\n",
    "                \n",
    "    elif len(number) == 13:\n",
    "            \n",
    "        sum_of_product13 = 0\n",
    "        for i in range(13):\n",
    "                \n",
    "            if i%2==0:\n",
    "                sum_of_product13 += int(number[i])*1\n",
    "            else:\n",
    "                sum_of_product13 += int(number[i])*3\n",
    "                \n",
    "                # A number is a valid ISBN-13 if the sum of products is\n",
    "                # divisible by 10.\n",
    "        if (sum_of_product13%10) == 0:\n",
    "            return 'Valid'  \n",
    "        else:\n",
    "            return 'Invalid'\n"
   ]
  },
  {
   "cell_type": "code",
   "execution_count": 50,
   "id": "a92674d1",
   "metadata": {},
   "outputs": [
    {
     "name": "stdout",
     "output_type": "stream",
     "text": [
      "Enter a an ISBN9780316066525\n"
     ]
    },
    {
     "data": {
      "text/plain": [
       "'Invalid'"
      ]
     },
     "execution_count": 50,
     "metadata": {},
     "output_type": "execute_result"
    }
   ],
   "source": [
    "# Test function\n",
    "while True:\n",
    "    try:\n",
    "        isbn = input(\"Enter a an ISBN\")\n",
    "        \n",
    "    except ValueError:\n",
    "        print(\"Please enter a 10 or 13 digit number\")\n",
    "        continue\n",
    "    else:\n",
    "        break\n",
    "\n",
    "check_isbn(isbn)\n",
    "             "
   ]
  },
  {
   "cell_type": "code",
   "execution_count": null,
   "id": "052368d0",
   "metadata": {},
   "outputs": [],
   "source": []
  },
  {
   "cell_type": "code",
   "execution_count": null,
   "id": "49881aaf",
   "metadata": {},
   "outputs": [],
   "source": []
  }
 ],
 "metadata": {
  "kernelspec": {
   "display_name": "Python 3",
   "language": "python",
   "name": "python3"
  },
  "language_info": {
   "codemirror_mode": {
    "name": "ipython",
    "version": 3
   },
   "file_extension": ".py",
   "mimetype": "text/x-python",
   "name": "python",
   "nbconvert_exporter": "python",
   "pygments_lexer": "ipython3",
   "version": "3.8.8"
  }
 },
 "nbformat": 4,
 "nbformat_minor": 5
}
